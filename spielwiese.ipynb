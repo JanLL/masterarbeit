{
 "cells": [
  {
   "cell_type": "code",
   "execution_count": 2,
   "metadata": {
    "collapsed": false
   },
   "outputs": [],
   "source": [
    "import numpy as np\n",
    "import matplotlib.pyplot as plt\n",
    "%matplotlib inline\n",
    "\n",
    "import scipy.io as io\n",
    "import scipy.optimize as opt\n",
    "from scipy import interpolate\n",
    "from scipy.interpolate import UnivariateSpline\n"
   ]
  },
  {
   "cell_type": "code",
   "execution_count": 20,
   "metadata": {
    "collapsed": false
   },
   "outputs": [
    {
     "name": "stdout",
     "output_type": "stream",
     "text": [
      "[ -3.76608759e-05   5.04978224e-02   5.85217070e+01]\n"
     ]
    },
    {
     "name": "stderr",
     "output_type": "stream",
     "text": [
      "/usr/local/lib/python2.7/dist-packages/ipykernel/__main__.py:17: RuntimeWarning: invalid value encountered in divide\n"
     ]
    },
    {
     "data": {
      "text/plain": [
       "<matplotlib.text.Text at 0x7fb0493eeb10>"
      ]
     },
     "execution_count": 20,
     "metadata": {},
     "output_type": "execute_result"
    },
    {
     "data": {
      "image/png": "[encoded data removed]",
      "text/plain": [
       "<matplotlib.figure.Figure at 0x7fb049332410>"
      ]
     },
     "metadata": {},
     "output_type": "display_data"
    }
   ],
   "source": [
    "# data from type_E_sensor.pdf\n",
    "filename = '/home/argo/masterarbeit/type_e_table_0_210_degC_raw.txt'\n",
    "\n",
    "data = open(filename)\n",
    "\n",
    "data_str = data.read()\n",
    "data_str = data_str.replace('\\n', ' ')\n",
    "data = np.array(data_str.split(), dtype=float)[1:]\n",
    "data = data[np.logical_not(np.mod(data, 10) == 0)]\n",
    "data = np.concatenate(([0.], data))\n",
    "\n",
    "seen = set()\n",
    "U = np.array([x for x in data if not (x in seen or seen.add(x))])\n",
    "U *= 1e3  # mV -> uV (microvolt)\n",
    "\n",
    "T = range(len(U))\n",
    "k = U / T\n",
    "\n",
    "#plt.plot(T[30:], k[30:], '.')\n",
    "#plt.plot(T, U, '.')\n",
    "\n",
    "deg = 2\n",
    "coeffs_fit = np.polyfit(T[30:], k[30:], deg)\n",
    "print coeffs_fit\n",
    "\n",
    "\n",
    "\n",
    "fig = plt.figure()\n",
    "ax = fig.add_subplot(111)\n",
    "ax.plot(T[30:], k[30:], '.', color='red', linewidth=0.1)\n",
    "ax.plot(T[30:], np.polyval(coeffs_fit, T[30:]))\n",
    "ax.set_xlabel('T_ref')\n",
    "ax.set_ylabel('dU [mV]')\n"
   ]
  },
  {
   "cell_type": "code",
   "execution_count": null,
   "metadata": {
    "collapsed": true
   },
   "outputs": [],
   "source": [
    "l = data.read().split"
   ]
  },
  {
   "cell_type": "code",
   "execution_count": null,
   "metadata": {
    "collapsed": false
   },
   "outputs": [],
   "source": []
  },
  {
   "cell_type": "code",
   "execution_count": null,
   "metadata": {
    "collapsed": false
   },
   "outputs": [],
   "source": []
  },
  {
   "cell_type": "code",
   "execution_count": null,
   "metadata": {
    "collapsed": false
   },
   "outputs": [],
   "source": []
  },
  {
   "cell_type": "code",
   "execution_count": null,
   "metadata": {
    "collapsed": true
   },
   "outputs": [],
   "source": []
  }
 ],
 "metadata": {
  "kernelspec": {
   "display_name": "Python 2",
   "language": "python",
   "name": "python2"
  },
  "language_info": {
   "codemirror_mode": {
    "name": "ipython",
    "version": 2
   },
   "file_extension": ".py",
   "mimetype": "text/x-python",
   "name": "python",
   "nbconvert_exporter": "python",
   "pygments_lexer": "ipython2",
   "version": "2.7.6"
  }
 },
 "nbformat": 4,
 "nbformat_minor": 0
}
